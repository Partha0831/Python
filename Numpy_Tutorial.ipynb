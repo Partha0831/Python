{
 "cells": [
  {
   "cell_type": "code",
   "execution_count": 1,
   "id": "ffd1b50d-ad0b-4b9d-9380-f11223fa7e27",
   "metadata": {},
   "outputs": [],
   "source": [
    "import numpy as np"
   ]
  },
  {
   "cell_type": "code",
   "execution_count": 28,
   "id": "ee7be403-6801-4619-b368-d2bcc0abf2fa",
   "metadata": {},
   "outputs": [
    {
     "data": {
      "text/plain": [
       "array([[1, 2, 3, 4, 5]], dtype=int8)"
      ]
     },
     "execution_count": 28,
     "metadata": {},
     "output_type": "execute_result"
    }
   ],
   "source": [
    "my_arr=np.array([[1,2,3,4,5]],np.int8) #memory management np.int8 we can give 32 64 like this.\n",
    "my_arr"
   ]
  },
  {
   "cell_type": "code",
   "execution_count": 32,
   "id": "9ec4d9df-4904-4a87-b5f0-85d8f3427013",
   "metadata": {},
   "outputs": [
    {
     "data": {
      "text/plain": [
       "5"
      ]
     },
     "execution_count": 32,
     "metadata": {},
     "output_type": "execute_result"
    }
   ],
   "source": [
    "my_arr[0,4] #Works in 2-D array #search array creation methods"
   ]
  },
  {
   "cell_type": "code",
   "execution_count": 36,
   "id": "a8467008-83d1-4dd4-9d2e-9679dcb14cff",
   "metadata": {},
   "outputs": [
    {
     "data": {
      "text/plain": [
       "array([[0, 0, 0, 0, 0, 0],\n",
       "       [0, 0, 0, 0, 0, 0],\n",
       "       [0, 0, 0, 0, 0, 0],\n",
       "       [0, 0, 0, 0, 0, 0]])"
      ]
     },
     "execution_count": 36,
     "metadata": {},
     "output_type": "execute_result"
    }
   ],
   "source": [
    "zeros=np.zeros((4,6),dtype=int)\n",
    "zeros"
   ]
  },
  {
   "cell_type": "code",
   "execution_count": 40,
   "id": "b120fe71-6ad2-4df5-8f2e-276b38698f74",
   "metadata": {},
   "outputs": [
    {
     "data": {
      "text/plain": [
       "array([ 0,  1,  2,  3,  4,  5,  6,  7,  8,  9, 10, 11, 12, 13, 14])"
      ]
     },
     "execution_count": 40,
     "metadata": {},
     "output_type": "execute_result"
    }
   ],
   "source": [
    "rangearr=np.arange(15)\n",
    "rangearr"
   ]
  },
  {
   "cell_type": "code",
   "execution_count": 42,
   "id": "72168cd8-390f-4f53-8146-e717570d9263",
   "metadata": {},
   "outputs": [
    {
     "data": {
      "text/plain": [
       "array([1.        , 1.36363636, 1.72727273, 2.09090909, 2.45454545,\n",
       "       2.81818182, 3.18181818, 3.54545455, 3.90909091, 4.27272727,\n",
       "       4.63636364, 5.        ])"
      ]
     },
     "execution_count": 42,
     "metadata": {},
     "output_type": "execute_result"
    }
   ],
   "source": [
    "lspace=np.linspace(1,5,12)\n",
    "lspace"
   ]
  },
  {
   "cell_type": "code",
   "execution_count": 47,
   "id": "0fe8583c-d228-4a4c-ac11-8f599f66b999",
   "metadata": {},
   "outputs": [
    {
     "data": {
      "text/plain": [
       "array([[0., 0., 0., 0.],\n",
       "       [0., 0., 0., 0.],\n",
       "       [0., 0., 0., 0.],\n",
       "       [0., 0., 0., 0.],\n",
       "       [0., 0., 0., 0.],\n",
       "       [0., 0., 0., 0.]])"
      ]
     },
     "execution_count": 47,
     "metadata": {},
     "output_type": "execute_result"
    }
   ],
   "source": [
    "empty=np.empty((6,4)) #gives an empty array\n",
    "empty"
   ]
  },
  {
   "cell_type": "code",
   "execution_count": 51,
   "id": "3aa7d2e6-197f-4d07-8c61-333c2f5bd360",
   "metadata": {},
   "outputs": [
    {
     "data": {
      "text/plain": [
       "array([1.        , 1.36363636, 1.72727273, 2.09090909, 2.45454545,\n",
       "       2.81818182, 3.18181818, 3.54545455, 3.90909091, 4.27272727,\n",
       "       4.63636364, 5.        ])"
      ]
     },
     "execution_count": 51,
     "metadata": {},
     "output_type": "execute_result"
    }
   ],
   "source": [
    "emptylike=np.empty_like(lspace) # It copies size from another array and amke an empty array\n",
    "emptylike"
   ]
  },
  {
   "cell_type": "raw",
   "id": "32453899-da8b-4c7e-8497-86a8ab5511ed",
   "metadata": {},
   "source": []
  },
  {
   "cell_type": "code",
   "execution_count": 53,
   "id": "847a3df1-6597-48fa-9180-7f8bfb269439",
   "metadata": {},
   "outputs": [
    {
     "data": {
      "text/plain": [
       "array([[1., 0., 0., ..., 0., 0., 0.],\n",
       "       [0., 1., 0., ..., 0., 0., 0.],\n",
       "       [0., 0., 1., ..., 0., 0., 0.],\n",
       "       ...,\n",
       "       [0., 0., 0., ..., 1., 0., 0.],\n",
       "       [0., 0., 0., ..., 0., 1., 0.],\n",
       "       [0., 0., 0., ..., 0., 0., 1.]])"
      ]
     },
     "execution_count": 53,
     "metadata": {},
     "output_type": "execute_result"
    }
   ],
   "source": [
    "ide=np.identity(45) #creates an 45 *45 metrixs\n",
    "ide"
   ]
  },
  {
   "cell_type": "code",
   "execution_count": 59,
   "id": "a66e75a5-1a3d-4900-9cac-260b2b10d747",
   "metadata": {},
   "outputs": [
    {
     "data": {
      "text/plain": [
       "2025"
      ]
     },
     "execution_count": 59,
     "metadata": {},
     "output_type": "execute_result"
    }
   ],
   "source": [
    "ide.size"
   ]
  },
  {
   "cell_type": "code",
   "execution_count": 61,
   "id": "615ea7bd-2c82-47c1-ab58-9e354b42caee",
   "metadata": {},
   "outputs": [
    {
     "data": {
      "text/plain": [
       "array([[1, 2, 3],\n",
       "       [4, 5, 6],\n",
       "       [7, 1, 0]])"
      ]
     },
     "execution_count": 61,
     "metadata": {},
     "output_type": "execute_result"
    }
   ],
   "source": [
    "x=[[1,2,3],[4,5,6],[7,1,0]]\n",
    "arr=np.array(x)\n",
    "arr"
   ]
  },
  {
   "cell_type": "code",
   "execution_count": 65,
   "id": "827b6216-428f-4b0c-8a9a-e9d118fe73be",
   "metadata": {},
   "outputs": [
    {
     "data": {
      "text/plain": [
       "array([12,  8,  9])"
      ]
     },
     "execution_count": 65,
     "metadata": {},
     "output_type": "execute_result"
    }
   ],
   "source": [
    "arr.sum(axis=0) #column sum"
   ]
  },
  {
   "cell_type": "code",
   "execution_count": 67,
   "id": "01267498-3a14-492d-802d-0125f9f735da",
   "metadata": {},
   "outputs": [
    {
     "data": {
      "text/plain": [
       "array([ 6, 15,  8])"
      ]
     },
     "execution_count": 67,
     "metadata": {},
     "output_type": "execute_result"
    }
   ],
   "source": [
    "arr.sum(axis=1) #row sum"
   ]
  },
  {
   "cell_type": "code",
   "execution_count": 69,
   "id": "c4eca397-5cbc-4df7-bb94-0370f43cb2dc",
   "metadata": {},
   "outputs": [
    {
     "data": {
      "text/plain": [
       "array([[1, 4, 7],\n",
       "       [2, 5, 1],\n",
       "       [3, 6, 0]])"
      ]
     },
     "execution_count": 69,
     "metadata": {},
     "output_type": "execute_result"
    }
   ],
   "source": [
    "arr.T #it transposes rows into columns columns in rows"
   ]
  },
  {
   "cell_type": "code",
   "execution_count": 71,
   "id": "0a1b897d-18c3-45bf-a678-59e1ec144e1f",
   "metadata": {},
   "outputs": [
    {
     "data": {
      "text/plain": [
       "<numpy.flatiter at 0x126037200>"
      ]
     },
     "execution_count": 71,
     "metadata": {},
     "output_type": "execute_result"
    }
   ],
   "source": [
    "arr.flat # it works as iterator"
   ]
  },
  {
   "cell_type": "code",
   "execution_count": 73,
   "id": "52e9da1d-43b6-4e15-aeae-0c039ab84969",
   "metadata": {},
   "outputs": [
    {
     "name": "stdout",
     "output_type": "stream",
     "text": [
      "1\n",
      "2\n",
      "3\n",
      "4\n",
      "5\n",
      "6\n",
      "7\n",
      "1\n",
      "0\n"
     ]
    }
   ],
   "source": [
    "for item in arr.flat: #we can print in sequence\n",
    "    print(item)"
   ]
  },
  {
   "cell_type": "code",
   "execution_count": 79,
   "id": "4d4e55f1-71df-4fcb-a185-2d18b250dcd7",
   "metadata": {},
   "outputs": [
    {
     "data": {
      "text/plain": [
       "72"
      ]
     },
     "execution_count": 79,
     "metadata": {},
     "output_type": "execute_result"
    }
   ],
   "source": [
    "arr.nbytes #returns bytes"
   ]
  },
  {
   "cell_type": "code",
   "execution_count": 81,
   "id": "63a5af2f-23cb-4d43-b65c-c2f96fd56074",
   "metadata": {},
   "outputs": [
    {
     "data": {
      "text/plain": [
       "array([ 1,  2,  3,  4,  5, 65, 34, 23])"
      ]
     },
     "execution_count": 81,
     "metadata": {},
     "output_type": "execute_result"
    }
   ],
   "source": [
    "one=np.array([1,2,3,4,5,65,34,23])\n",
    "one"
   ]
  },
  {
   "cell_type": "code",
   "execution_count": 83,
   "id": "6256bf2f-0fd5-4edd-984a-e419e14eb808",
   "metadata": {},
   "outputs": [
    {
     "data": {
      "text/plain": [
       "5"
      ]
     },
     "execution_count": 83,
     "metadata": {},
     "output_type": "execute_result"
    }
   ],
   "source": [
    "one.argmax() #returns max value index"
   ]
  },
  {
   "cell_type": "code",
   "execution_count": 85,
   "id": "eb01b9c6-fe53-4285-96bc-f3fb129d38df",
   "metadata": {},
   "outputs": [
    {
     "data": {
      "text/plain": [
       "0"
      ]
     },
     "execution_count": 85,
     "metadata": {},
     "output_type": "execute_result"
    }
   ],
   "source": [
    "one.argmin() #returns min value index"
   ]
  },
  {
   "cell_type": "code",
   "execution_count": 87,
   "id": "853577cb-5424-4410-9511-dfee53a216fe",
   "metadata": {},
   "outputs": [
    {
     "data": {
      "text/plain": [
       "array([0, 1, 2, 3, 4, 7, 6, 5])"
      ]
     },
     "execution_count": 87,
     "metadata": {},
     "output_type": "execute_result"
    }
   ],
   "source": [
    "one.argsort() # returns the index values for how the values have to be in order sorting index numbers"
   ]
  },
  {
   "cell_type": "code",
   "execution_count": 89,
   "id": "1ec7fadd-da83-464c-af65-f031fc0fc23c",
   "metadata": {},
   "outputs": [
    {
     "data": {
      "text/plain": [
       "8"
      ]
     },
     "execution_count": 89,
     "metadata": {},
     "output_type": "execute_result"
    }
   ],
   "source": [
    "arr.argmin()"
   ]
  },
  {
   "cell_type": "code",
   "execution_count": 91,
   "id": "6a0be03b-cff8-4225-879f-0af06b31840b",
   "metadata": {},
   "outputs": [
    {
     "data": {
      "text/plain": [
       "6"
      ]
     },
     "execution_count": 91,
     "metadata": {},
     "output_type": "execute_result"
    }
   ],
   "source": [
    "arr.argmax()"
   ]
  },
  {
   "cell_type": "code",
   "execution_count": 93,
   "id": "a3275cf6-e4fd-4bdc-a2b9-dfcd7b83898f",
   "metadata": {},
   "outputs": [
    {
     "data": {
      "text/plain": [
       "array([[1, 2, 3],\n",
       "       [4, 5, 6],\n",
       "       [7, 1, 0]])"
      ]
     },
     "execution_count": 93,
     "metadata": {},
     "output_type": "execute_result"
    }
   ],
   "source": [
    "arr\n"
   ]
  },
  {
   "cell_type": "code",
   "execution_count": 97,
   "id": "dd3272eb-1469-46ce-a772-02153217a576",
   "metadata": {},
   "outputs": [
    {
     "data": {
      "text/plain": [
       "array([2, 1, 1])"
      ]
     },
     "execution_count": 97,
     "metadata": {},
     "output_type": "execute_result"
    }
   ],
   "source": [
    "arr.argmax(axis=0) #this returns least value index in each row o/p returns from last row first"
   ]
  },
  {
   "cell_type": "code",
   "execution_count": 99,
   "id": "abfd7326-dacd-40ce-8e70-e9b220ea8d6a",
   "metadata": {},
   "outputs": [
    {
     "data": {
      "text/plain": [
       "array([0, 2, 2])"
      ]
     },
     "execution_count": 99,
     "metadata": {},
     "output_type": "execute_result"
    }
   ],
   "source": [
    "arr.argmin(axis=0) ##this returns least value index in each column o/p returns from first column first"
   ]
  },
  {
   "cell_type": "code",
   "execution_count": 105,
   "id": "7a9e6e8a-04a2-4174-a964-e94969c78633",
   "metadata": {},
   "outputs": [
    {
     "data": {
      "text/plain": [
       "array([[0, 1, 2],\n",
       "       [0, 1, 2],\n",
       "       [2, 1, 0]])"
      ]
     },
     "execution_count": 105,
     "metadata": {},
     "output_type": "execute_result"
    }
   ],
   "source": [
    "arr.argsort()"
   ]
  },
  {
   "cell_type": "code",
   "execution_count": 103,
   "id": "470e7b7a-d62b-45c5-a81f-30f743465b5f",
   "metadata": {},
   "outputs": [
    {
     "data": {
      "text/plain": [
       "array([[0, 2, 2],\n",
       "       [1, 0, 0],\n",
       "       [2, 1, 1]])"
      ]
     },
     "execution_count": 103,
     "metadata": {},
     "output_type": "execute_result"
    }
   ],
   "source": [
    "arr.argsort(axis=0)"
   ]
  },
  {
   "cell_type": "code",
   "execution_count": 107,
   "id": "f30e050a-6357-4982-a729-605b7cc56c85",
   "metadata": {},
   "outputs": [
    {
     "data": {
      "text/plain": [
       "array([[0, 1, 2],\n",
       "       [0, 1, 2],\n",
       "       [2, 1, 0]])"
      ]
     },
     "execution_count": 107,
     "metadata": {},
     "output_type": "execute_result"
    }
   ],
   "source": [
    "arr.argsort(axis=1)"
   ]
  },
  {
   "cell_type": "code",
   "execution_count": 117,
   "id": "8d2331f9-508b-4c2d-b127-afa03ce2566d",
   "metadata": {},
   "outputs": [
    {
     "data": {
      "text/plain": [
       "array([[1, 2, 3],\n",
       "       [4, 5, 6],\n",
       "       [7, 1, 0]])"
      ]
     },
     "execution_count": 117,
     "metadata": {},
     "output_type": "execute_result"
    }
   ],
   "source": [
    "arr"
   ]
  },
  {
   "cell_type": "code",
   "execution_count": 115,
   "id": "e2478e40-d638-4094-b8fc-f3b896f058c6",
   "metadata": {},
   "outputs": [
    {
     "data": {
      "text/plain": [
       "array([[0, 1, 2],\n",
       "       [3, 4, 5],\n",
       "       [6, 7, 8]])"
      ]
     },
     "execution_count": 115,
     "metadata": {},
     "output_type": "execute_result"
    }
   ],
   "source": [
    "arr1=np.arange(9)\n",
    "arr1=arr1.reshape(3,3)\n",
    "arr1"
   ]
  },
  {
   "cell_type": "code",
   "execution_count": 113,
   "id": "876c5cc4-5033-4b81-aab5-72c7d2f2cced",
   "metadata": {},
   "outputs": [
    {
     "data": {
      "text/plain": [
       "array([[ 1,  3,  5],\n",
       "       [ 7,  9, 11],\n",
       "       [13,  8,  8]])"
      ]
     },
     "execution_count": 113,
     "metadata": {},
     "output_type": "execute_result"
    }
   ],
   "source": [
    "arr+arr1"
   ]
  },
  {
   "cell_type": "code",
   "execution_count": 119,
   "id": "27d11016-ebd6-4ec0-8592-dcda40372dec",
   "metadata": {},
   "outputs": [
    {
     "data": {
      "text/plain": [
       "array([[0.        , 1.        , 1.41421356],\n",
       "       [1.73205081, 2.        , 2.23606798],\n",
       "       [2.44948974, 2.64575131, 2.82842712]])"
      ]
     },
     "execution_count": 119,
     "metadata": {},
     "output_type": "execute_result"
    }
   ],
   "source": [
    "np.sqrt(arr1)"
   ]
  },
  {
   "cell_type": "code",
   "execution_count": 121,
   "id": "d0d8c2e2-7f31-4be8-9ca9-4979f7254178",
   "metadata": {},
   "outputs": [
    {
     "data": {
      "text/plain": [
       "36"
      ]
     },
     "execution_count": 121,
     "metadata": {},
     "output_type": "execute_result"
    }
   ],
   "source": [
    "arr1.sum()"
   ]
  },
  {
   "cell_type": "code",
   "execution_count": 125,
   "id": "b99bde55-6b84-4d30-9330-a7015e77ce24",
   "metadata": {},
   "outputs": [
    {
     "data": {
      "text/plain": [
       "(array([1, 1, 2, 2, 2]), array([1, 2, 0, 1, 2]))"
      ]
     },
     "execution_count": 125,
     "metadata": {},
     "output_type": "execute_result"
    }
   ],
   "source": [
    "np.where(arr1>3)"
   ]
  },
  {
   "cell_type": "code",
   "execution_count": 127,
   "id": "87a7e748-2c9a-4a3b-b736-2adb6010ade8",
   "metadata": {},
   "outputs": [
    {
     "data": {
      "text/plain": [
       "8"
      ]
     },
     "execution_count": 127,
     "metadata": {},
     "output_type": "execute_result"
    }
   ],
   "source": [
    "np.count_nonzero(arr1) #count of non zeros"
   ]
  },
  {
   "cell_type": "code",
   "execution_count": 131,
   "id": "8b60ce17-8bc1-4051-ad61-adf3afab920e",
   "metadata": {},
   "outputs": [
    {
     "data": {
      "text/plain": [
       "(array([0, 0, 1, 1, 1, 2, 2, 2]), array([1, 2, 0, 1, 2, 0, 1, 2]))"
      ]
     },
     "execution_count": 131,
     "metadata": {},
     "output_type": "execute_result"
    }
   ],
   "source": [
    "np.nonzero(arr1) #returns nonzero insex values first list is rows and secod in column"
   ]
  },
  {
   "cell_type": "code",
   "execution_count": 133,
   "id": "2a5f7297-14eb-4ac1-ae50-1c433c901016",
   "metadata": {},
   "outputs": [],
   "source": [
    "import sys"
   ]
  },
  {
   "cell_type": "code",
   "execution_count": 135,
   "id": "b6f7512d-9500-4fd4-9000-446c41448713",
   "metadata": {},
   "outputs": [],
   "source": [
    "lst=[45,24,55,67] #below is to check space occupied by normal list and numpy array"
   ]
  },
  {
   "cell_type": "code",
   "execution_count": 137,
   "id": "653b70a2-0cc7-406f-b375-75b2f334037f",
   "metadata": {},
   "outputs": [],
   "source": [
    "num_lst=np.array(lst)"
   ]
  },
  {
   "cell_type": "code",
   "execution_count": 139,
   "id": "feebe162-499a-44a7-abd2-bde0c23c425f",
   "metadata": {},
   "outputs": [
    {
     "data": {
      "text/plain": [
       "112"
      ]
     },
     "execution_count": 139,
     "metadata": {},
     "output_type": "execute_result"
    }
   ],
   "source": [
    "sys.getsizeof(1)*len(lst)"
   ]
  },
  {
   "cell_type": "code",
   "execution_count": 141,
   "id": "7acb371b-9a39-4555-bc70-44f6c700eb54",
   "metadata": {},
   "outputs": [
    {
     "data": {
      "text/plain": [
       "32"
      ]
     },
     "execution_count": 141,
     "metadata": {},
     "output_type": "execute_result"
    }
   ],
   "source": [
    "num_lst.itemsize*num_lst.size"
   ]
  },
  {
   "cell_type": "code",
   "execution_count": 143,
   "id": "c95a0e18-ae32-4cd5-a790-370c9fedc2e1",
   "metadata": {},
   "outputs": [
    {
     "data": {
      "text/plain": [
       "[45, 24, 55, 67]"
      ]
     },
     "execution_count": 143,
     "metadata": {},
     "output_type": "execute_result"
    }
   ],
   "source": [
    "num_lst.tolist() #converts numpy array to python list"
   ]
  },
  {
   "cell_type": "code",
   "execution_count": null,
   "id": "ffecc2b6-7c6e-4f42-8e26-2a393980d6cc",
   "metadata": {},
   "outputs": [],
   "source": []
  }
 ],
 "metadata": {
  "kernelspec": {
   "display_name": "Python [conda env:base] *",
   "language": "python",
   "name": "conda-base-py"
  },
  "language_info": {
   "codemirror_mode": {
    "name": "ipython",
    "version": 3
   },
   "file_extension": ".py",
   "mimetype": "text/x-python",
   "name": "python",
   "nbconvert_exporter": "python",
   "pygments_lexer": "ipython3",
   "version": "3.12.7"
  }
 },
 "nbformat": 4,
 "nbformat_minor": 5
}

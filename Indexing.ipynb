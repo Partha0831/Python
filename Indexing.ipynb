{
 "cells": [
  {
   "cell_type": "code",
   "execution_count": 1,
   "id": "a943783a-0c24-47fc-8059-62d419511854",
   "metadata": {},
   "outputs": [],
   "source": [
    "import numpy as np"
   ]
  },
  {
   "cell_type": "code",
   "execution_count": 5,
   "id": "4e69e1c5-a555-442e-b40f-a896639f76ff",
   "metadata": {},
   "outputs": [],
   "source": [
    "arr=np.array([[1,2,3],[4,5,6]])"
   ]
  },
  {
   "cell_type": "code",
   "execution_count": 9,
   "id": "05407111-3c5b-42a8-bf9f-4d2a3a468016",
   "metadata": {},
   "outputs": [
    {
     "data": {
      "text/plain": [
       "3"
      ]
     },
     "execution_count": 9,
     "metadata": {},
     "output_type": "execute_result"
    }
   ],
   "source": [
    "arr[0][2] #priting specific record 1st row 3rd record  General Syntax id arr[0,2]"
   ]
  },
  {
   "cell_type": "code",
   "execution_count": 11,
   "id": "aa17bc1b-b3a2-456b-b888-7b31bd9e6cdf",
   "metadata": {},
   "outputs": [
    {
     "data": {
      "text/plain": [
       "3"
      ]
     },
     "execution_count": 11,
     "metadata": {},
     "output_type": "execute_result"
    }
   ],
   "source": [
    "arr[0,2]"
   ]
  },
  {
   "cell_type": "code",
   "execution_count": 13,
   "id": "ad41b1ff-5cd2-4cfb-9e3f-cba69d2affda",
   "metadata": {},
   "outputs": [
    {
     "data": {
      "text/plain": [
       "array([4, 5, 6])"
      ]
     },
     "execution_count": 13,
     "metadata": {},
     "output_type": "execute_result"
    }
   ],
   "source": [
    "arr[-1] # returns last row #if it is 1-D array we will get last record"
   ]
  },
  {
   "cell_type": "code",
   "execution_count": 15,
   "id": "68be07a2-4ae7-4615-9d68-2722a6ae3ccb",
   "metadata": {},
   "outputs": [],
   "source": [
    "arr[1,2]=9 #changing the value"
   ]
  },
  {
   "cell_type": "code",
   "execution_count": 17,
   "id": "6df5877a-e8e6-4324-bcf7-217e0e16acf5",
   "metadata": {},
   "outputs": [
    {
     "data": {
      "text/plain": [
       "array([[1, 2, 3],\n",
       "       [4, 5, 9]])"
      ]
     },
     "execution_count": 17,
     "metadata": {},
     "output_type": "execute_result"
    }
   ],
   "source": [
    "arr"
   ]
  },
  {
   "cell_type": "code",
   "execution_count": 21,
   "id": "fd6300c0-67d7-4252-8a65-9c833cfa41bc",
   "metadata": {},
   "outputs": [],
   "source": [
    "arr[1]=7 #changing entire Row"
   ]
  },
  {
   "cell_type": "code",
   "execution_count": 23,
   "id": "bcbe2e81-f351-4da5-97c9-72040a314aab",
   "metadata": {},
   "outputs": [
    {
     "data": {
      "text/plain": [
       "array([[1, 2, 3],\n",
       "       [7, 7, 7]])"
      ]
     },
     "execution_count": 23,
     "metadata": {},
     "output_type": "execute_result"
    }
   ],
   "source": [
    "arr"
   ]
  },
  {
   "cell_type": "code",
   "execution_count": 25,
   "id": "ac96ab2b-11b5-4160-b648-a122b3c2668e",
   "metadata": {},
   "outputs": [
    {
     "data": {
      "text/plain": [
       "array([3, 4, 5])"
      ]
     },
     "execution_count": 25,
     "metadata": {},
     "output_type": "execute_result"
    }
   ],
   "source": [
    "arr[0]+2"
   ]
  },
  {
   "cell_type": "code",
   "execution_count": null,
   "id": "50e480bf-bef6-4383-847d-d7f9d03aa9e1",
   "metadata": {},
   "outputs": [],
   "source": []
  }
 ],
 "metadata": {
  "kernelspec": {
   "display_name": "Python [conda env:base] *",
   "language": "python",
   "name": "conda-base-py"
  },
  "language_info": {
   "codemirror_mode": {
    "name": "ipython",
    "version": 3
   },
   "file_extension": ".py",
   "mimetype": "text/x-python",
   "name": "python",
   "nbconvert_exporter": "python",
   "pygments_lexer": "ipython3",
   "version": "3.12.7"
  }
 },
 "nbformat": 4,
 "nbformat_minor": 5
}

{
 "cells": [
  {
   "cell_type": "code",
   "execution_count": 61,
   "id": "55ee7ee2-2cb3-4d52-9535-25fc71200f7e",
   "metadata": {},
   "outputs": [],
   "source": [
    "import numpy as np\n",
    "import array as ar"
   ]
  },
  {
   "cell_type": "code",
   "execution_count": 67,
   "id": "0f689636-c89b-4d22-ae3d-a0c1cda45b29",
   "metadata": {},
   "outputs": [
    {
     "data": {
      "text/plain": [
       "array('i', [1, 2, 3, 4])"
      ]
     },
     "execution_count": 67,
     "metadata": {},
     "output_type": "execute_result"
    }
   ],
   "source": [
    "n_array=ar.array('i',[1,2,3,4]) # using array lib and definging type\n",
    "n_array"
   ]
  },
  {
   "cell_type": "code",
   "execution_count": 69,
   "id": "31a00041-6769-4836-b0ff-bf7cfef20770",
   "metadata": {},
   "outputs": [
    {
     "data": {
      "text/plain": [
       "array([1, 2, 3, 4])"
      ]
     },
     "execution_count": 69,
     "metadata": {},
     "output_type": "execute_result"
    }
   ],
   "source": [
    "np_array=np.array([1,2,3,4],'int') #using numpy module datatype should be defined at the end\n",
    "np_array"
   ]
  },
  {
   "cell_type": "code",
   "execution_count": 79,
   "id": "b9815972-5a9d-4e08-8a3e-a560b3bb3673",
   "metadata": {},
   "outputs": [
    {
     "data": {
      "text/plain": [
       "matrix([[1, 2],\n",
       "        [3, 4]])"
      ]
     },
     "execution_count": 79,
     "metadata": {},
     "output_type": "execute_result"
    }
   ],
   "source": [
    "matri= np.matrix(np_array.reshape(2,2)) # matrix creation using matrix function\n",
    "matri"
   ]
  },
  {
   "cell_type": "code",
   "execution_count": 65,
   "id": "8d82a31d-ae79-4ac9-b1ed-e44157ece64e",
   "metadata": {},
   "outputs": [
    {
     "data": {
      "text/plain": [
       "array([[ 0,  2],\n",
       "       [ 4,  6],\n",
       "       [ 8, 10]])"
      ]
     },
     "execution_count": 65,
     "metadata": {},
     "output_type": "execute_result"
    }
   ],
   "source": [
    "numpy_array=np.arange(0,11,2) # if you pass only 11 it give values till 10\n",
    "twodarray=numpy_array.reshape(3,2)\n",
    "numpy_array\n",
    "twodarray"
   ]
  },
  {
   "cell_type": "code",
   "execution_count": 22,
   "id": "fe088f7b-33d8-43e7-8af8-951b10332f8c",
   "metadata": {},
   "outputs": [
    {
     "data": {
      "text/plain": [
       "dtype('int64')"
      ]
     },
     "execution_count": 22,
     "metadata": {},
     "output_type": "execute_result"
    }
   ],
   "source": [
    "twodarray.dtype"
   ]
  },
  {
   "cell_type": "code",
   "execution_count": 24,
   "id": "e5c1deb3-a151-43ba-8ab3-d3ad0685e654",
   "metadata": {},
   "outputs": [
    {
     "data": {
      "text/plain": [
       "(3, 2)"
      ]
     },
     "execution_count": 24,
     "metadata": {},
     "output_type": "execute_result"
    }
   ],
   "source": [
    "twodarray.shape"
   ]
  },
  {
   "cell_type": "code",
   "execution_count": 26,
   "id": "3e2afea8-993d-4753-9454-6baac058fde4",
   "metadata": {},
   "outputs": [
    {
     "data": {
      "text/plain": [
       "6"
      ]
     },
     "execution_count": 26,
     "metadata": {},
     "output_type": "execute_result"
    }
   ],
   "source": [
    "twodarray.size"
   ]
  },
  {
   "cell_type": "code",
   "execution_count": 28,
   "id": "3b2da525-02f6-487f-a7d2-d4b3545f13fb",
   "metadata": {},
   "outputs": [
    {
     "data": {
      "text/plain": [
       "2"
      ]
     },
     "execution_count": 28,
     "metadata": {},
     "output_type": "execute_result"
    }
   ],
   "source": [
    "twodarray.ndim"
   ]
  },
  {
   "cell_type": "code",
   "execution_count": 40,
   "id": "7a18564f-9716-4de4-b464-14a0e8da7cf4",
   "metadata": {},
   "outputs": [
    {
     "data": {
      "text/plain": [
       "array([[0, 0, 0, 0, 0],\n",
       "       [0, 0, 0, 0, 0],\n",
       "       [0, 0, 0, 0, 0],\n",
       "       [0, 0, 0, 0, 0],\n",
       "       [0, 0, 0, 0, 0]])"
      ]
     },
     "execution_count": 40,
     "metadata": {},
     "output_type": "execute_result"
    }
   ],
   "source": [
    "zeros = np.zeros(shape=(5,5),dtype=int) #creating 5*5 zeroo array Directly we can mention (5,5) instead shape=(5,5)\n",
    "zeros # default type is float "
   ]
  },
  {
   "cell_type": "code",
   "execution_count": 42,
   "id": "8a99a507-bf1c-4efe-8e70-fde7abd087d4",
   "metadata": {},
   "outputs": [
    {
     "data": {
      "text/plain": [
       "array([[1, 1, 1, 1, 1],\n",
       "       [1, 1, 1, 1, 1],\n",
       "       [1, 1, 1, 1, 1],\n",
       "       [1, 1, 1, 1, 1],\n",
       "       [1, 1, 1, 1, 1]])"
      ]
     },
     "execution_count": 42,
     "metadata": {},
     "output_type": "execute_result"
    }
   ],
   "source": [
    "ones = np.ones(shape=(5,5),dtype=int) #creating 5*5 ones array Directly we can mention (5,5) instead shape=(5,5)\n",
    "ones # default type is float "
   ]
  },
  {
   "cell_type": "code",
   "execution_count": 44,
   "id": "cd2a83dd-35b3-4389-ae8a-5d1d79bf05a9",
   "metadata": {},
   "outputs": [
    {
     "data": {
      "text/plain": [
       "array([1.        , 1.44444444, 1.88888889, 2.33333333, 2.77777778,\n",
       "       3.22222222, 3.66666667, 4.11111111, 4.55555556, 5.        ])"
      ]
     },
     "execution_count": 44,
     "metadata": {},
     "output_type": "execute_result"
    }
   ],
   "source": [
    "arr_lin=np.linspace(1,5,10) # here 1 is staring index 5 is ending including 5 and 10 is devided into 10 pieces\n",
    "arr_lin #equal distributions"
   ]
  },
  {
   "cell_type": "code",
   "execution_count": null,
   "id": "15da8f69-1c8c-4e5c-8ea5-b3ee364da5b6",
   "metadata": {},
   "outputs": [],
   "source": []
  }
 ],
 "metadata": {
  "kernelspec": {
   "display_name": "Python [conda env:base] *",
   "language": "python",
   "name": "conda-base-py"
  },
  "language_info": {
   "codemirror_mode": {
    "name": "ipython",
    "version": 3
   },
   "file_extension": ".py",
   "mimetype": "text/x-python",
   "name": "python",
   "nbconvert_exporter": "python",
   "pygments_lexer": "ipython3",
   "version": "3.12.7"
  }
 },
 "nbformat": 4,
 "nbformat_minor": 5
}

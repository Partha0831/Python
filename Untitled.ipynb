{
 "cells": [
  {
   "cell_type": "code",
   "execution_count": 19,
   "id": "c8c3c50e-d005-46d1-9abc-561e2f9c8222",
   "metadata": {},
   "outputs": [
    {
     "name": "stdout",
     "output_type": "stream",
     "text": [
      "[4, 7, -1, 6, -11, 14, 3, -1, -6] 22\n"
     ]
    }
   ],
   "source": [
    "# 10. Maximum sum subarray\n",
    "L = [-2,4,7,-1,6,-11,14,3,-1,-6]\n",
    "d={}\n",
    "for i in range(0,len(L)):\n",
    "    arr=[]\n",
    "    for j in range(i,len(L)):\n",
    "        arr.append(L[j])\n",
    "        d[sum(arr)]=arr\n",
    "max_val=(max(d.keys()))\n",
    "for i in d.keys():\n",
    "    if i==max_val:\n",
    "        print(d[i],i)\n",
    "    \n",
    "            "
   ]
  },
  {
   "cell_type": "code",
   "execution_count": 40,
   "id": "14178200-3437-4ae7-8358-9a3b84ea6240",
   "metadata": {},
   "outputs": [
    {
     "name": "stdout",
     "output_type": "stream",
     "text": [
      "[4, 7, -1, 6, -11, 14, 3, -1, -6] 22\n"
     ]
    }
   ],
   "source": [
    "#kadene's algo\n",
    "cur_sum=0\n",
    "cur_arr=[]\n",
    "best_sum=0\n",
    "best_arr=[]\n",
    "for i in range(0,len(L)):\n",
    "    if cur_sum+L[i]>L[i]:\n",
    "        cur_sum=cur_sum+L[i]\n",
    "        cur_arr.append(L[i])\n",
    "    else:\n",
    "        cur_sum=L[i]\n",
    "        cur_arr.clear()\n",
    "        cur_arr.append(L[i])\n",
    "    if best_sum<cur_sum:\n",
    "        best_sum=cur_sum\n",
    "        best_arr=cur_arr\n",
    "print(best_arr,best_sum)    \n"
   ]
  },
  {
   "cell_type": "code",
   "execution_count": 44,
   "id": "9d29f91d-5438-4a63-88e6-ae9ab2b9c7dd",
   "metadata": {},
   "outputs": [
    {
     "name": "stdout",
     "output_type": "stream",
     "text": [
      "5\n"
     ]
    }
   ],
   "source": [
    "# 9. Find element with left side smaller/right side greater in an array\n",
    "L = [3,1,2,5,8,7,9]\n",
    "for i in range(1,len(L)-1):\n",
    "    if max(L[:i])<L[i]<min(L[i+1:]):\n",
    "        print(L[i])"
   ]
  },
  {
   "cell_type": "code",
   "execution_count": null,
   "id": "2d19f764-7f7e-4d8e-94d2-75a4e56f3421",
   "metadata": {},
   "outputs": [],
   "source": []
  }
 ],
 "metadata": {
  "kernelspec": {
   "display_name": "Python [conda env:base] *",
   "language": "python",
   "name": "conda-base-py"
  },
  "language_info": {
   "codemirror_mode": {
    "name": "ipython",
    "version": 3
   },
   "file_extension": ".py",
   "mimetype": "text/x-python",
   "name": "python",
   "nbconvert_exporter": "python",
   "pygments_lexer": "ipython3",
   "version": "3.12.7"
  }
 },
 "nbformat": 4,
 "nbformat_minor": 5
}

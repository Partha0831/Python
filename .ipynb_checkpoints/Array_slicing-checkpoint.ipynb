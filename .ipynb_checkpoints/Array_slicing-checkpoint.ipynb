{
 "cells": [
  {
   "cell_type": "code",
   "execution_count": 3,
   "id": "1967ab55-2539-4a04-bc40-ada612d892bd",
   "metadata": {},
   "outputs": [
    {
     "name": "stdout",
     "output_type": "stream",
     "text": [
      "[[1 2 3]\n",
      " [4 5 6]]\n"
     ]
    }
   ],
   "source": [
    "import numpy as np\n",
    "arr=np.array([[1,2,3],[4,5,6]])\n",
    "print(arr)"
   ]
  },
  {
   "cell_type": "code",
   "execution_count": 5,
   "id": "83fd20fd-6dd4-474b-8bb8-a563bf8c89b5",
   "metadata": {},
   "outputs": [
    {
     "data": {
      "text/plain": [
       "array([[1, 2, 3],\n",
       "       [4, 5, 6]])"
      ]
     },
     "execution_count": 5,
     "metadata": {},
     "output_type": "execute_result"
    }
   ],
   "source": [
    "arr[:] #prints all rows"
   ]
  },
  {
   "cell_type": "code",
   "execution_count": 13,
   "id": "09768bf8-6554-4c84-9289-02f8aeb0fa91",
   "metadata": {},
   "outputs": [
    {
     "data": {
      "text/plain": [
       "array([[1, 2, 3]])"
      ]
     },
     "execution_count": 13,
     "metadata": {},
     "output_type": "execute_result"
    }
   ],
   "source": [
    "arr[0:1] #prints only first row"
   ]
  },
  {
   "cell_type": "code",
   "execution_count": 11,
   "id": "206cdca1-e8b9-4b29-8532-54b47b4a0d49",
   "metadata": {},
   "outputs": [
    {
     "data": {
      "text/plain": [
       "array([[3]])"
      ]
     },
     "execution_count": 11,
     "metadata": {},
     "output_type": "execute_result"
    }
   ],
   "source": [
    "arr[0:1,2:3]"
   ]
  },
  {
   "cell_type": "code",
   "execution_count": 15,
   "id": "4cf7da67-33b3-43bf-858c-3e69a2ace4aa",
   "metadata": {},
   "outputs": [
    {
     "data": {
      "text/plain": [
       "array([[3],\n",
       "       [6]])"
      ]
     },
     "execution_count": 15,
     "metadata": {},
     "output_type": "execute_result"
    }
   ],
   "source": [
    "arr[0:2, 2:3]"
   ]
  },
  {
   "cell_type": "code",
   "execution_count": 17,
   "id": "377f1489-8d19-4ec6-ac12-f315f44b36a2",
   "metadata": {},
   "outputs": [],
   "source": [
    "from numpy.random import Generator as gen,PCG64 as pcg"
   ]
  },
  {
   "cell_type": "code",
   "execution_count": 64,
   "id": "d197f5b1-c2d8-4fb8-a309-6c8d61ceb02a",
   "metadata": {},
   "outputs": [
    {
     "data": {
      "text/plain": [
       "array([[79, 85, 21, 63, 17, 35],\n",
       "       [49, 13, 62, 97, 95, 63],\n",
       "       [47, 81, 93, 91, 10, 71],\n",
       "       [74, 27, 55, 98, 71, 35]])"
      ]
     },
     "execution_count": 64,
     "metadata": {},
     "output_type": "execute_result"
    }
   ],
   "source": [
    "pcg_array=gen(pcg(seed=100))\n",
    "pcg_array1=pcg_array.integers(low=10,high=100,size=(4,6))\n",
    "pcg_array1"
   ]
  },
  {
   "cell_type": "code",
   "execution_count": 66,
   "id": "b9f0bb56-dc13-40de-9725-594ad834f6d6",
   "metadata": {},
   "outputs": [
    {
     "data": {
      "text/plain": [
       "array([[85, 21, 63],\n",
       "       [13, 62, 97]])"
      ]
     },
     "execution_count": 66,
     "metadata": {},
     "output_type": "execute_result"
    }
   ],
   "source": [
    "pcg_array1[0:2,1:4] #to fetch first two rows from column index 1 to 3"
   ]
  },
  {
   "cell_type": "code",
   "execution_count": 70,
   "id": "50b12f88-34c9-4603-babd-5c1b05b259fe",
   "metadata": {},
   "outputs": [
    {
     "data": {
      "text/plain": [
       "array([[79, 21, 17],\n",
       "       [47, 93, 10]])"
      ]
     },
     "execution_count": 70,
     "metadata": {},
     "output_type": "execute_result"
    }
   ],
   "source": [
    "pcg_array1[0:3:2,0:5:2] # last 2 will used to jump 2 2 rows and columns if 1 it will do 1+2=3 like."
   ]
  },
  {
   "cell_type": "code",
   "execution_count": null,
   "id": "5b45475c-3ef9-4f80-a6ed-ff18d2260a26",
   "metadata": {},
   "outputs": [],
   "source": []
  },
  {
   "cell_type": "code",
   "execution_count": null,
   "id": "02ad9632-ac4f-424e-8a9f-b9256d23948c",
   "metadata": {},
   "outputs": [],
   "source": []
  },
  {
   "cell_type": "code",
   "execution_count": null,
   "id": "2f914721-c865-4937-a7a8-61ae0f874dad",
   "metadata": {},
   "outputs": [],
   "source": []
  },
  {
   "cell_type": "code",
   "execution_count": null,
   "id": "d6c28106-41cb-44f4-8f81-e5fb27c1c60c",
   "metadata": {},
   "outputs": [],
   "source": []
  },
  {
   "cell_type": "code",
   "execution_count": null,
   "id": "c5924ce7-83ca-415e-ac68-9afdb5e2aabc",
   "metadata": {},
   "outputs": [],
   "source": []
  }
 ],
 "metadata": {
  "kernelspec": {
   "display_name": "Python [conda env:base] *",
   "language": "python",
   "name": "conda-base-py"
  },
  "language_info": {
   "codemirror_mode": {
    "name": "ipython",
    "version": 3
   },
   "file_extension": ".py",
   "mimetype": "text/x-python",
   "name": "python",
   "nbconvert_exporter": "python",
   "pygments_lexer": "ipython3",
   "version": "3.12.7"
  }
 },
 "nbformat": 4,
 "nbformat_minor": 5
}

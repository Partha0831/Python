{
 "cells": [
  {
   "cell_type": "code",
   "execution_count": 2,
   "id": "693c8cfb-46bf-4b75-ab34-5713916e1e98",
   "metadata": {},
   "outputs": [],
   "source": [
    "import numpy as np"
   ]
  },
  {
   "cell_type": "code",
   "execution_count": 35,
   "id": "3fd6d71c-1680-4d63-9fa5-47c484686065",
   "metadata": {},
   "outputs": [
    {
     "data": {
      "text/plain": [
       "array([ 1,  2,  3,  4,  5,  6,  7,  8,  9, 10, 11, 12])"
      ]
     },
     "execution_count": 35,
     "metadata": {},
     "output_type": "execute_result"
    }
   ],
   "source": [
    "arr=np.array([1,2,3,4,5,6,7,8,9,10,11,12])\n",
    "arr"
   ]
  },
  {
   "cell_type": "code",
   "execution_count": 41,
   "id": "4dd69354-32ab-4d85-8858-8780345e1969",
   "metadata": {},
   "outputs": [
    {
     "data": {
      "text/plain": [
       "array([[99,  2,  3,  4],\n",
       "       [ 5,  6,  7,  8],\n",
       "       [ 9, 10, 11, 12]])"
      ]
     },
     "execution_count": 41,
     "metadata": {},
     "output_type": "execute_result"
    }
   ],
   "source": [
    "reshaped=arr.reshape(3,4)\n",
    "reshaped"
   ]
  },
  {
   "cell_type": "code",
   "execution_count": 27,
   "id": "32894263-910f-4556-ac18-e026f3b6a2d9",
   "metadata": {},
   "outputs": [
    {
     "data": {
      "text/plain": [
       "array([99,  2,  3,  4,  5,  6,  7,  8,  9, 10, 11, 12])"
      ]
     },
     "execution_count": 27,
     "metadata": {},
     "output_type": "execute_result"
    }
   ],
   "source": [
    "flattened=reshaped.flatten() # to make it as 1-D array\n",
    "flattened[0]=99 # IT IS COPING FROM ORIGINAL ,original will not change when we change in flattened\n",
    "flattened"
   ]
  },
  {
   "cell_type": "code",
   "execution_count": 39,
   "id": "ca3b8038-2e7f-4b80-9ac7-2b6fb3d7fc08",
   "metadata": {},
   "outputs": [
    {
     "data": {
      "text/plain": [
       "array([99,  2,  3,  4,  5,  6,  7,  8,  9, 10, 11, 12])"
      ]
     },
     "execution_count": 39,
     "metadata": {},
     "output_type": "execute_result"
    }
   ],
   "source": [
    "raveled=reshaped.ravel() #to make it as 1-D array\n",
    "raveled[0]=99 # it like a view of original when we change in raveled it will effect in original\n",
    "raveled"
   ]
  },
  {
   "cell_type": "code",
   "execution_count": null,
   "id": "c2ed7753-dbab-47d4-b8f7-1f7ee1683b44",
   "metadata": {},
   "outputs": [],
   "source": [
    "#flatten - Copy\n",
    "#ravel() - View"
   ]
  }
 ],
 "metadata": {
  "kernelspec": {
   "display_name": "Python [conda env:base] *",
   "language": "python",
   "name": "conda-base-py"
  },
  "language_info": {
   "codemirror_mode": {
    "name": "ipython",
    "version": 3
   },
   "file_extension": ".py",
   "mimetype": "text/x-python",
   "name": "python",
   "nbconvert_exporter": "python",
   "pygments_lexer": "ipython3",
   "version": "3.12.7"
  }
 },
 "nbformat": 4,
 "nbformat_minor": 5
}

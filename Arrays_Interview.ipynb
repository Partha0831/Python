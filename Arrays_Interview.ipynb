{
 "cells": [
  {
   "cell_type": "code",
   "execution_count": 29,
   "id": "79e5ac6b-42bf-453e-84b5-f62ff6c1c427",
   "metadata": {},
   "outputs": [
    {
     "name": "stdout",
     "output_type": "stream",
     "text": [
      "[4, 7, -1, 6, -11, 14, 3, -1, -6]\n"
     ]
    }
   ],
   "source": [
    "# 10. Maximum sum subarray\n",
    "L = [-2,4,7,-1,6,-11,14,3,-1,-6]\n",
    "d={}\n",
    "for i in range(0,len(L)):\n",
    "    lst=[]\n",
    "    for j in range(i,len(L)):\n",
    "        lst.append(L[j])\n",
    "        d[sum(lst)]=lst\n",
    "max_val=max(d.keys())\n",
    "for i in d:\n",
    "    if i==max_val:\n",
    "        print(d[i])"
   ]
  },
  {
   "cell_type": "code",
   "execution_count": 42,
   "id": "10f16b3a-9c13-4556-bbe7-be14c59576c2",
   "metadata": {},
   "outputs": [
    {
     "name": "stdout",
     "output_type": "stream",
     "text": [
      "22 [4, 7, -1, 6, -11, 14, 3, -1, -6]\n"
     ]
    }
   ],
   "source": [
    "#kadane's algorithm\n",
    "L = [-2,4,7,-1,6,-11,14,3,-1,-6]\n",
    "cur_sum=0\n",
    "cur_arr=[]\n",
    "best_sum=L[0]\n",
    "best_arr=[]\n",
    "for i in L:\n",
    "    if i+cur_sum>i:\n",
    "        cur_sum=cur_sum+i\n",
    "        cur_arr.append(i)\n",
    "    else:\n",
    "        cur_sum=i\n",
    "        cur_arr.clear()\n",
    "        cur_arr.append(i)\n",
    "    if best_sum<cur_sum:\n",
    "        best_sum=cur_sum\n",
    "        best_arr=cur_arr\n",
    "print(best_sum,best_arr)\n",
    "        "
   ]
  },
  {
   "cell_type": "code",
   "execution_count": 60,
   "id": "dcc9d886-3f49-45d6-a6a4-92efa813c697",
   "metadata": {},
   "outputs": [
    {
     "name": "stdout",
     "output_type": "stream",
     "text": [
      "5 is the biggest Number\n"
     ]
    }
   ],
   "source": [
    "L = [3,1,2,5,8,7,9]\n",
    "for i in range(1,len(L)-1):\n",
    "    for j in range(0,i):\n",
    "        if L[j]>L[i]:\n",
    "            break;\n",
    "    else:\n",
    "        for k in range(i+1,len(L)):\n",
    "            if L[k]<L[i]:\n",
    "                break;\n",
    "        else:\n",
    "            print(f\"{L[i]} has no bigger number on the left side and no smaller numbers on the right side.\")\n",
    "            \n",
    "            "
   ]
  },
  {
   "cell_type": "code",
   "execution_count": 72,
   "id": "3184ec8b-e597-4d1b-bf74-f2ae9e927bd2",
   "metadata": {},
   "outputs": [
    {
     "name": "stdout",
     "output_type": "stream",
     "text": [
      "5\n"
     ]
    }
   ],
   "source": [
    "# 9. Find element with left side smaller/right side greater in an array\n",
    "L = [3,1,2,5,8,7,9]\n",
    "for i in range(1,len(L)-1):\n",
    "    flag=True\n",
    "    for j in range(0,i):\n",
    "        if L[j]>L[i]:\n",
    "            flag=False\n",
    "    for k in range(i+1,len(L)):\n",
    "        if L[k]<L[i]:\n",
    "            flag=False\n",
    "    if flag:\n",
    "        print(L[i])\n",
    "\n"
   ]
  },
  {
   "cell_type": "code",
   "execution_count": 74,
   "id": "035ba8ec-0d5c-465f-91ba-086577174667",
   "metadata": {},
   "outputs": [
    {
     "name": "stdout",
     "output_type": "stream",
     "text": [
      "5\n"
     ]
    }
   ],
   "source": [
    "L = [3,1,2,5,8,7,9]\n",
    "for i in range(1,len(L)-1):\n",
    "    if max(L[:i])<L[i]<min(L[i+1:]):\n",
    "        print(L[i])\n",
    "    "
   ]
  },
  {
   "cell_type": "code",
   "execution_count": 106,
   "id": "bf2fef3c-50ae-4376-bdab-ccf104b9d521",
   "metadata": {},
   "outputs": [
    {
     "name": "stdout",
     "output_type": "stream",
     "text": [
      "5\n"
     ]
    }
   ],
   "source": [
    "L = [3,1,2,5,8,7,9]\n",
    "\n",
    "max_arr = []\n",
    "min_arr = []\n",
    "\n",
    "max_val = L[0]\n",
    "min_val = L[-1]\n",
    "\n",
    "for i in L:\n",
    "  if i>max_val:\n",
    "    max_val = i\n",
    "  max_arr.append(max_val)\n",
    "\n",
    "for i in range(len(L)-1,-1,-1):\n",
    "  if L[i] < min_val:\n",
    "    min_val = L[i]\n",
    "  \n",
    "  min_arr.insert(0,min_val)\n",
    "\n",
    "\n",
    "for i in range(1,len(L)-1):\n",
    "  if max_arr[i-1] < L[i] < min_arr[i+1]:\n",
    "    print(L[i])"
   ]
  },
  {
   "cell_type": "code",
   "execution_count": 114,
   "id": "a32de65c-6c78-4e0f-a29f-afc94a12c875",
   "metadata": {},
   "outputs": [
    {
     "name": "stdout",
     "output_type": "stream",
     "text": [
      "[7, 9]\n"
     ]
    }
   ],
   "source": [
    "# 8. Find continous subarray with a given sum(given non-negative numbers)\n",
    "# return the starting and ending index of the subarray\n",
    "# return 1st subarray in case of multiple\n",
    "L = [1,22,13,7,9,11,10]\n",
    "S = 16\n",
    "for i in range(0,len(L)):\n",
    "    arr=[]\n",
    "    for j in range(i,len(L)):\n",
    "        arr.append(L[j])\n",
    "        if sum(arr)==S:\n",
    "            print(arr)\n",
    "            break;\n",
    "        "
   ]
  },
  {
   "cell_type": "code",
   "execution_count": 118,
   "id": "4a2ce9b4-ef16-465d-b1ac-1cab76c22868",
   "metadata": {},
   "outputs": [
    {
     "name": "stdout",
     "output_type": "stream",
     "text": [
      "1 2\n"
     ]
    }
   ],
   "source": [
    "L = [1,22,13,7,9,11,10]\n",
    "S = 35\n",
    "d={}\n",
    "crr_sum=0\n",
    "for i in range(0,len(L)):\n",
    "    crr_sum=crr_sum+L[i]\n",
    "    if crr_sum-S in d:\n",
    "        print(d[crr_sum-S]+1,i)\n",
    "        break\n",
    "    d[crr_sum]=i\n",
    "    "
   ]
  },
  {
   "cell_type": "code",
   "execution_count": 120,
   "id": "cb1cc0c6-0632-42bb-9a16-2b6aab034a85",
   "metadata": {},
   "outputs": [
    {
     "name": "stdout",
     "output_type": "stream",
     "text": [
      "3\n",
      "8\n"
     ]
    }
   ],
   "source": [
    "# 7. Find intersection of 2 sorted arrays\n",
    "\n",
    "a = [1,2,3,4,5,8]\n",
    "b = [3,6,7,8]\n",
    "for i in a:\n",
    "    if i in b:\n",
    "        print(i)"
   ]
  },
  {
   "cell_type": "code",
   "execution_count": 122,
   "id": "2e9ff7b6-6e19-4514-b243-b17790c1de83",
   "metadata": {},
   "outputs": [
    {
     "name": "stdout",
     "output_type": "stream",
     "text": [
      "3\n",
      "8\n"
     ]
    }
   ],
   "source": [
    "#This works if both are sorted\n",
    "a = [1,2,3,4,5,8]\n",
    "b = [3,6,7,8]\n",
    "i=j=0\n",
    "while i<len(a) and j<len(b):\n",
    "    if a[i]==b[j]:\n",
    "        print(a[i])\n",
    "        i+=1\n",
    "        j+=1\n",
    "    elif a[i]<b[j]:\n",
    "        i+=1\n",
    "    else:\n",
    "        j+=1\n",
    "    "
   ]
  },
  {
   "cell_type": "code",
   "execution_count": 124,
   "id": "b726365b-fb43-47a4-a6d3-06cf5ac276f8",
   "metadata": {},
   "outputs": [
    {
     "name": "stdout",
     "output_type": "stream",
     "text": [
      "[3, 4, 5, 1, 2]\n"
     ]
    }
   ],
   "source": [
    "# 6. Rotate array to left d items\n",
    "\n",
    "L = [1,2,3,4,5]\n",
    "rotate = 2\n",
    "for i in range(rotate):\n",
    "    tmp=L[0]\n",
    "    for j in range(0,len(L)-1):\n",
    "        L[j]=L[j+1]\n",
    "    L[-1]=tmp\n",
    "print(L)"
   ]
  },
  {
   "cell_type": "code",
   "execution_count": 132,
   "id": "505dc8d8-6b9f-4206-8bfe-88ede25890e1",
   "metadata": {},
   "outputs": [
    {
     "name": "stdout",
     "output_type": "stream",
     "text": [
      "[1, 4, 5]\n",
      "{1: 2, 2: 1, 3: 1, 4: 2, 5: 2}\n"
     ]
    }
   ],
   "source": [
    "# 5. Find duplicates in an array\n",
    "L = [1,1,2,3,4,4,5,5]\n",
    "d={}\n",
    "for i in L:\n",
    "    if i in d:\n",
    "        d[i]+=1\n",
    "    else:\n",
    "        d[i]=1\n",
    "lst=[key for key,value in d.items() if value>1]\n",
    "print(lst)"
   ]
  },
  {
   "cell_type": "code",
   "execution_count": 138,
   "id": "f8f6d9f7-182a-4ae1-8ea4-da9e305318d4",
   "metadata": {},
   "outputs": [
    {
     "name": "stdout",
     "output_type": "stream",
     "text": [
      "1\n",
      "4\n",
      "5\n"
     ]
    }
   ],
   "source": [
    "# 5. Find duplicates in an array\n",
    "L = [1,1,2,3,4,4,5,5]\n",
    "d={}\n",
    "for i in L:\n",
    "    if i in d:\n",
    "        d[i]+=1\n",
    "    else:\n",
    "        d[i]=1\n",
    "for i in d:\n",
    "    if d[i]>1:\n",
    "        print(i)"
   ]
  },
  {
   "cell_type": "code",
   "execution_count": 146,
   "id": "66f072c6-1623-479d-8901-03d2b6b0c033",
   "metadata": {},
   "outputs": [
    {
     "name": "stdout",
     "output_type": "stream",
     "text": [
      "1\n"
     ]
    }
   ],
   "source": [
    "# 4. Find the first element to occur k times in an array\n",
    "L = [1,1,2,3,4,4,5,5,5]\n",
    "k=2\n",
    "d={}\n",
    "for i in L:\n",
    "    if i in d:\n",
    "        d[i]+=1\n",
    "    else:\n",
    "        d[i]=1\n",
    "for i in d:\n",
    "    if d[i]==k:\n",
    "        print(i)\n",
    "        break"
   ]
  },
  {
   "cell_type": "code",
   "execution_count": 154,
   "id": "caa2e5d8-9a48-4bf4-83a5-7fffe98c378e",
   "metadata": {},
   "outputs": [
    {
     "name": "stdout",
     "output_type": "stream",
     "text": [
      "1\n",
      "54\n"
     ]
    }
   ],
   "source": [
    "# 3. Find Min/Max in a given array\n",
    "\n",
    "L = [21,1,34,23,54,11,10]\n",
    "min=L[0]\n",
    "max=L[0]\n",
    "for i in L:\n",
    "    if i<min:\n",
    "        min=i\n",
    "print(min)\n",
    "for i in L:\n",
    "    if i>max:\n",
    "        max=i\n",
    "print(max)"
   ]
  },
  {
   "cell_type": "code",
   "execution_count": null,
   "id": "4cec9b32-6fa3-417c-8d00-302e536fd107",
   "metadata": {},
   "outputs": [],
   "source": [
    "# 2. Check if an array is sorted\n",
    "L = [1,2,3,4,5]\n",
    "\n",
    "flag = True\n",
    "\n",
    "for i in range(0,len(L)-1):\n",
    "  if L[i] > L[i+1]:\n",
    "    flag = False\n",
    "\n",
    "if flag:\n",
    "  print('sorted')\n",
    "else:\n",
    "  print('not sorted')\n"
   ]
  },
  {
   "cell_type": "code",
   "execution_count": 156,
   "id": "8c4d35be-ce82-4350-818c-01bfa0d3d1c5",
   "metadata": {},
   "outputs": [
    {
     "name": "stdout",
     "output_type": "stream",
     "text": [
      "23\n"
     ]
    }
   ],
   "source": [
    "# 1. Find the kth largest/smallest item from a list\n",
    "\n",
    "L = [12,23,1,4,56,34,22,3]\n",
    "k=3\n",
    "\n",
    "L.sort(reverse=True)\n",
    "print(L[k-1])"
   ]
  },
  {
   "cell_type": "code",
   "execution_count": null,
   "id": "e6b98fd8-ae5f-4a46-a057-cf5b5ad83f69",
   "metadata": {},
   "outputs": [],
   "source": []
  }
 ],
 "metadata": {
  "kernelspec": {
   "display_name": "Python [conda env:base] *",
   "language": "python",
   "name": "conda-base-py"
  },
  "language_info": {
   "codemirror_mode": {
    "name": "ipython",
    "version": 3
   },
   "file_extension": ".py",
   "mimetype": "text/x-python",
   "name": "python",
   "nbconvert_exporter": "python",
   "pygments_lexer": "ipython3",
   "version": "3.12.7"
  }
 },
 "nbformat": 4,
 "nbformat_minor": 5
}
